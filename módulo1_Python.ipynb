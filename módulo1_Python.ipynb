{
  "nbformat": 4,
  "nbformat_minor": 0,
  "metadata": {
    "colab": {
      "name": "módulo1_Python.ipynb",
      "provenance": []
    },
    "kernelspec": {
      "display_name": "Python 3",
      "name": "python3"
    },
    "language_info": {
      "name": "python"
    }
  },
  "cells": [
    {
      "cell_type": "code",
      "metadata": {
        "colab": {
          "base_uri": "https://localhost:8080/"
        },
        "id": "trP3rXro3clf",
        "outputId": "af3fbfeb-b163-448c-d450-106923603d6e"
      },
      "source": [
        "print('ola', 5) # se colocar (\"ola\" + 5) dá erro ele só le com a virgula"
      ],
      "execution_count": null,
      "outputs": [
        {
          "output_type": "stream",
          "text": [
            "ola 5\n"
          ],
          "name": "stdout"
        }
      ]
    },
    {
      "cell_type": "code",
      "metadata": {
        "colab": {
          "base_uri": "https://localhost:8080/"
        },
        "id": "wStwgOv94nIB",
        "outputId": "29f7933c-5d77-4c1f-cddd-546eb1a99362"
      },
      "source": [
        "nome = input('qual seu nome?')\n",
        "idade = input('qual sua idade?')\n",
        "peso = input('qual seu peso?')\n",
        "print (nome, idade, peso)"
      ],
      "execution_count": null,
      "outputs": [
        {
          "output_type": "stream",
          "text": [
            "qual seu nome?maria\n",
            "qual sua idade?ieie\n",
            "qual seu peso?22\n",
            "maria ieie 22\n"
          ],
          "name": "stdout"
        }
      ]
    },
    {
      "cell_type": "code",
      "metadata": {
        "colab": {
          "background_save": true,
          "base_uri": "https://localhost:8080/",
          "height": 132
        },
        "id": "g0NfBHcu49jO",
        "outputId": "0a31c86a-0ab7-482a-8cb1-45d0da6e8d0a"
      },
      "source": [
        "nome = input('olá, digite seu nome')\n",
        "print('olá,', format(nome) \"\" seja bem vindo(a)! \")"
      ],
      "execution_count": null,
      "outputs": [
        {
          "output_type": "stream",
          "text": [
            "olá, maeia\n"
          ],
          "name": "stdout"
        }
      ]
    },
    {
      "cell_type": "code",
      "metadata": {
        "colab": {
          "base_uri": "https://localhost:8080/"
        },
        "id": "rmWnk_V86WEA",
        "outputId": "0f002c4e-8c24-4137-ce23-a5ab1805fcf3"
      },
      "source": [
        "nome = input('digite seu nome:')\n",
        "dia = input('digite o dia de nascimento: ')\n",
        "mes = input('digite o mes de nascimento: ')\n",
        "ano = input('digite o ano de nascimento: ')\n",
        "\n",
        "print(nome,\" \", dia,\"/\", mes,\"/\", ano)"
      ],
      "execution_count": null,
      "outputs": [
        {
          "output_type": "stream",
          "text": [
            "digite seu nome:maria\n",
            "digite o dia de nascimento: 12\n",
            "digite o mes de nascimento: 03\n",
            "digite o ano de nascimento: 2222\n",
            "maria   12 / 03 / 2222\n"
          ],
          "name": "stdout"
        }
      ]
    },
    {
      "cell_type": "code",
      "metadata": {
        "colab": {
          "base_uri": "https://localhost:8080/",
          "height": 132
        },
        "id": "zLmQVYR37cnt",
        "outputId": "7209a47e-753b-476a-a38e-412af492c5f1"
      },
      "source": [
        "import numpy as np\n",
        "import matplotlib.pyplot as plt\n",
        "int num1 = input('digite n1:')\n",
        "int num2 = input('digite n2:')\n",
        "int soma = num1 + num2\n",
        "print( int \n",
        "      soma)"
      ],
      "execution_count": null,
      "outputs": [
        {
          "output_type": "error",
          "ename": "SyntaxError",
          "evalue": "ignored",
          "traceback": [
            "\u001b[0;36m  File \u001b[0;32m\"<ipython-input-30-ffc1f77fab74>\"\u001b[0;36m, line \u001b[0;32m3\u001b[0m\n\u001b[0;31m    int num1 = input('digite n1:')\u001b[0m\n\u001b[0m           ^\u001b[0m\n\u001b[0;31mSyntaxError\u001b[0m\u001b[0;31m:\u001b[0m invalid syntax\n"
          ]
        }
      ]
    },
    {
      "cell_type": "code",
      "metadata": {
        "id": "RqqSwURq9mnQ"
      },
      "source": [
        ""
      ],
      "execution_count": null,
      "outputs": []
    }
  ]
}