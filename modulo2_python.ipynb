{
  "nbformat": 4,
  "nbformat_minor": 0,
  "metadata": {
    "colab": {
      "name": "modulo2_python.ipynb",
      "provenance": []
    },
    "kernelspec": {
      "name": "python3",
      "display_name": "Python 3"
    },
    "language_info": {
      "name": "python"
    }
  },
  "cells": [
    {
      "cell_type": "code",
      "metadata": {
        "colab": {
          "base_uri": "https://localhost:8080/"
        },
        "id": "NeT-4hqDvtVP",
        "outputId": "56c9c398-2872-40d3-c9db-b8ed8fc2f9f4"
      },
      "source": [
        "import numpy as np\n",
        "import matplotlib.pyplot as plt\n",
        "num1 = int(input('digite n1:'))\n",
        "num2 = int(input('digite n2:'))\n",
        "soma = num1 + num2\n",
        "print('a soma entre {} e {} vale {}'.format(num1, num2, soma))"
      ],
      "execution_count": 1,
      "outputs": [
        {
          "output_type": "stream",
          "text": [
            "digite n1:3\n",
            "digite n2:4\n",
            "a soma entre 3 e 4 vale 7\n"
          ],
          "name": "stdout"
        }
      ]
    },
    {
      "cell_type": "code",
      "metadata": {
        "colab": {
          "base_uri": "https://localhost:8080/"
        },
        "id": "w-FWK7Mxv2LZ",
        "outputId": "99298420-f930-41c2-fa3f-a44dbab445fb"
      },
      "source": [
        "#exercicio 4: programa que leia algo e mostre na tela seu tipo primitivo e \n",
        "#todas as informações possiveis sobre ele\n",
        "\n",
        "a = input('digite algo: ')\n",
        "print('o tipo primitivo desse valor é ', type(a))\n",
        "print('só tem espaços?', a.isnumeric())\n",
        "print('é um numero?', a.isalpha())\n",
        "print('eh alphanumerico', a.isalnum())\n",
        "print('eh maiuscula', a.isupper())\n",
        "print('eh minuscula', a.islower())\n",
        "print('esta capitalizada?', a.istitle())"
      ],
      "execution_count": 2,
      "outputs": [
        {
          "output_type": "stream",
          "text": [
            "digite algo: 4\n",
            "o tipo primitivo desse valor é  <class 'str'>\n",
            "só tem espaços? True\n",
            "é um numero? False\n",
            "eh alphanumerico True\n",
            "eh maiuscula False\n",
            "eh minuscula False\n",
            "esta capitalizada? False\n"
          ],
          "name": "stdout"
        }
      ]
    },
    {
      "cell_type": "code",
      "metadata": {
        "colab": {
          "base_uri": "https://localhost:8080/"
        },
        "id": "C1RZZaHDwIxY",
        "outputId": "5bc4d212-f149-4fa0-8d91-4a459ef671f1"
      },
      "source": [
        "#dizendo a quantidade de caracteres exibir, no código abaixo está ponto 15 espaços a mais\n",
        "nome = input('seu nome: ')\n",
        "print('prazer em te conhecer {:>20}'.format(nome))"
      ],
      "execution_count": 4,
      "outputs": [
        {
          "output_type": "stream",
          "text": [
            "seu nome: maria\n",
            "prazer em te conhecer                maria\n"
          ],
          "name": "stdout"
        }
      ]
    },
    {
      "cell_type": "code",
      "metadata": {
        "colab": {
          "base_uri": "https://localhost:8080/"
        },
        "id": "VgMoU7MUyiqM",
        "outputId": "651422ad-c76b-4e88-fb76-1c986ffe3eff"
      },
      "source": [
        "n1 = int(input('digite n1:'))\n",
        "n2 = int(input('digite n2:'))\n",
        "soma = n1 + n2\n",
        "mult = n1 * n2\n",
        "div = n1 / n2\n",
        "dint = n1 // n2\n",
        "poten = n1**n2\n",
        "print('a soma eh {}, o produto eh {} e a divisao eh {:.5f}'.format(soma, mult, div))\n",
        "print('a divisao inteira eh {} e a potencia eh {}'.format(dint, poten))"
      ],
      "execution_count": 6,
      "outputs": [
        {
          "output_type": "stream",
          "text": [
            "digite n1:3\n",
            "digite n2:4\n",
            "a soma eh 7, o produto eh 12 e a divisao eh 0.75000\n",
            "a divisao inteira eh 0 e a potencia eh 81\n"
          ],
          "name": "stdout"
        }
      ]
    },
    {
      "cell_type": "code",
      "metadata": {
        "colab": {
          "base_uri": "https://localhost:8080/"
        },
        "id": "sOjfhlGQzvI8",
        "outputId": "181030d4-c5cc-4b67-e41c-23d671ed2c81"
      },
      "source": [
        "#exercicio 5: digite um numero e a saida deve ter o antecessor e o sucessor\n",
        "num = int(input('digite um numero: '))\n",
        "#ant = num - 1\n",
        "#suc = num + 1\n",
        "print('o antecessor eh {} e o sucessor eh {}'.format(num - 1, num + 1))"
      ],
      "execution_count": 9,
      "outputs": [
        {
          "output_type": "stream",
          "text": [
            "digite um numero: 5\n",
            "o antecessor eh 4 e o sucessor eh 6\n"
          ],
          "name": "stdout"
        }
      ]
    },
    {
      "cell_type": "code",
      "metadata": {
        "colab": {
          "base_uri": "https://localhost:8080/"
        },
        "id": "PBbyq7wG2FuQ",
        "outputId": "9cccc800-38e2-4ae8-f642-6d5d7de7804b"
      },
      "source": [
        "#exercicio 6: digite um numero e exiba o dobro, o triplo e sua raiz quadrada\n",
        "num = int(input('digite um numero: '))\n",
        "d = num *2\n",
        "t = num *3\n",
        "#r = num ** (1/2)\n",
        "r = pow(num,1/2)\n",
        "print('o dobro eh {}, o triplo eh {} e a raiz eh {:.5}'.format(d,t,r))\n"
      ],
      "execution_count": 15,
      "outputs": [
        {
          "output_type": "stream",
          "text": [
            "digite um numero: 6\n",
            "o dobro eh 12, o triplo eh 18 e a raiz eh 2.4495\n"
          ],
          "name": "stdout"
        }
      ]
    },
    {
      "cell_type": "code",
      "metadata": {
        "colab": {
          "base_uri": "https://localhost:8080/"
        },
        "id": "YcTneGcD4fP6",
        "outputId": "68dd91f9-a26d-407b-80d9-93455ad75bdd"
      },
      "source": [
        "#exercicio 7: Desenvolva um programa que leia as duas notas de um aluno, calcule e mostre a sua média.\n",
        "n1 = float(input('digite nota 1: '))\n",
        "n2 = float(input('digite nota 2: '))\n",
        "media = (n1 + n2)/2\n",
        "print('a media eh {:.3}'.format(media))\n"
      ],
      "execution_count": 18,
      "outputs": [
        {
          "output_type": "stream",
          "text": [
            "digite nota 1: 5.5877345\n",
            "digite nota 2: 4.46\n",
            "a media eh 5.02\n"
          ],
          "name": "stdout"
        }
      ]
    },
    {
      "cell_type": "code",
      "metadata": {
        "colab": {
          "base_uri": "https://localhost:8080/"
        },
        "id": "GDml97q36SEk",
        "outputId": "0d4c3aef-7dc4-45c9-a2aa-3535bc72cf7a"
      },
      "source": [
        "#exercício 8: Escreva um programa que leia um valor em metros e o exiba convertido em centímetros e milímetros.\n",
        "n = float(input('digite um valor em metros: '))\n",
        "c = n*100\n",
        "mm = n*1000\n",
        "print('o valor digitado em metros {:.5} equivale a {:.5} cm e {:.5} mm'.format(n,c,mm))"
      ],
      "execution_count": 22,
      "outputs": [
        {
          "output_type": "stream",
          "text": [
            "digite um valor em metros: 34.549458\n",
            "o valor digitado em metros 34.549 equivale a 3454.9 cm e 3.4549e+04 mm\n"
          ],
          "name": "stdout"
        }
      ]
    },
    {
      "cell_type": "code",
      "metadata": {
        "colab": {
          "base_uri": "https://localhost:8080/"
        },
        "id": "btLAh5F17eCC",
        "outputId": "2bbf9b1f-e841-4177-e95e-45a4838b5d9e"
      },
      "source": [
        "# exercicio 9: Faça um programa que leia um número Inteiro qualquer e mostre na tela a sua tabuada.\n",
        "num = int(input('digite um numero: '))\n",
        "print('{} x {} = {}'.format(num,1, num*1))\n",
        "print('{} x {} = {}'.format(num,2, num*2))\n",
        "print('{} x {} = {}'.format(num,3, num*3))\n",
        "print('{} x {} = {}'.format(num,4, num*4))\n",
        "print('{} x {} = {}'.format(num,5, num*5))\n",
        "print('{} x {} = {}'.format(num,6, num*6))\n",
        "print('{} x {} = {}'.format(num,7, num*7))\n",
        "print('{} x {} = {}'.format(num,8, num*8))\n",
        "print('{} x {} = {}'.format(num,9, num*9))\n",
        "print('{} x {} = {}'.format(num,10, num*10))"
      ],
      "execution_count": 25,
      "outputs": [
        {
          "output_type": "stream",
          "text": [
            "digite um numero: 3\n",
            "3 x 1 = 3\n",
            "3 x 2 = 6\n",
            "3 x 3 = 9\n",
            "3 x 4 = 12\n",
            "3 x 5 = 15\n",
            "3 x 6 = 18\n",
            "3 x 7 = 21\n",
            "3 x 8 = 24\n",
            "3 x 9 = 27\n",
            "3 x 10 = 30\n"
          ],
          "name": "stdout"
        }
      ]
    },
    {
      "cell_type": "code",
      "metadata": {
        "colab": {
          "base_uri": "https://localhost:8080/"
        },
        "id": "qgKK5_5iFGn0",
        "outputId": "48634748-2954-4a69-b0c1-55695d4044f8"
      },
      "source": [
        "# exercicio 10: Crie um programa que leia quanto dinheiro uma pessoa tem na carteira e mostre quantos dólares ela pode comprar.\n",
        "real = float(input('digite quanto voce tem na carteira: '))\n",
        "dolar = real/5.08\n",
        "print('Com R$ {:.2f}, você consegue adquirir US${:.2f}'.format(valor, dolar))"
      ],
      "execution_count": 33,
      "outputs": [
        {
          "output_type": "stream",
          "text": [
            "digite quanto voce tem na carteira: 35.78\n",
            "Com R$ 0.98, você consegue adquirir US$7.04\n"
          ],
          "name": "stdout"
        }
      ]
    },
    {
      "cell_type": "code",
      "metadata": {
        "colab": {
          "base_uri": "https://localhost:8080/"
        },
        "id": "gQ9x12pfHQR1",
        "outputId": "4175d521-8c0d-428c-c468-af8e36358ace"
      },
      "source": [
        "#exercicio 11: Faça um programa que leia a largura e a altura de uma parede em metros, calcule \n",
        "#a sua área e a quantidade de tinta necessária para pintá-la, sabendo que cada \n",
        "#litro de tinta pinta uma área de 2 metros quadrados.\n",
        "h = float(input('digite a altura da parede: '))\n",
        "larg = float(input('digite a largura da parede: '))\n",
        "area = h*larg\n",
        "tinta = area/2\n",
        "print('uma parede com a area de {} m2 precisa de {} litros de tinta'.format(area, tinta))"
      ],
      "execution_count": 36,
      "outputs": [
        {
          "output_type": "stream",
          "text": [
            "digite a altura da parede: 4\n",
            "digite a largura da parede: 3\n",
            "uma parede com a area de 12.0 m2 precisa de 6.0 litros de tinta\n"
          ],
          "name": "stdout"
        }
      ]
    },
    {
      "cell_type": "code",
      "metadata": {
        "colab": {
          "base_uri": "https://localhost:8080/"
        },
        "id": "uJnixZu9Hile",
        "outputId": "3736c6a0-0c0d-4051-bf00-d9a6c3968806"
      },
      "source": [
        "# exercicio 12: Faça um algoritmo que leia o preço de um produto e mostre seu novo preço, com 5% de desconto.\n",
        "preco = float(input('digite o preço do produto: '))\n",
        "desconto = preco*0.05\n",
        "new = preco - desconto\n",
        "print('o produto com o preco de R${:.2f} obteve um desconto de R${:.2f} e está por R${:.2f}'.format(preco, desconto, new))"
      ],
      "execution_count": 40,
      "outputs": [
        {
          "output_type": "stream",
          "text": [
            "digite o preço do produto: 34.56\n",
            "o produto com o preco de R$34.56 obteve um desconto de R$1.73 e está por R$32.83\n"
          ],
          "name": "stdout"
        }
      ]
    },
    {
      "cell_type": "code",
      "metadata": {
        "colab": {
          "base_uri": "https://localhost:8080/"
        },
        "id": "7F5NnAIWK8b6",
        "outputId": "59304736-5817-4b4d-81a1-73b52b7672d9"
      },
      "source": [
        "#exercicio 13: Faça um algoritmo que leia o salário de um funcionário \n",
        "#e mostre seu novo salário, com 15% de aumento.\n",
        "nome = input('digite o nome do funcionario: ')\n",
        "salario = float(input('digite o valor do atual salario: '))\n",
        "aumento = salario*0.15\n",
        "novo = salario + aumento\n",
        "print('o salario inicial do funcionario {} era R${:.2f} e obteve um aumento de R${:.2f} e agora esta R${:.2f}'\n",
        "          .format(nome, salario, aumento, novo))"
      ],
      "execution_count": 42,
      "outputs": [
        {
          "output_type": "stream",
          "text": [
            "digite o nome do funcionario: maria\n",
            "digite o valor do atual salario: 454.62\n",
            "o salario inicial do funcionario maria era R$454.62 e obteve um aumento de R$68.19 e agora esta R$522.81\n"
          ],
          "name": "stdout"
        }
      ]
    },
    {
      "cell_type": "code",
      "metadata": {
        "colab": {
          "base_uri": "https://localhost:8080/"
        },
        "id": "NO22Pku8MiB6",
        "outputId": "74c18e8a-26b4-47ca-c6f3-f0429f697768"
      },
      "source": [
        "#exercicio 14: 14: Escreva um programa que converta uma temperatura digitando em \n",
        "#graus Celsius e converta para graus Fahrenheit.\n",
        "temp = int(input('digite a temperatura em Celcius: '))\n",
        "fah = (temp*9)/5 + 32\n",
        "print('a temperatura em Celcius {}ºC convertida para Fahrenheit eh: {:.0f}ºF'.format(temp, fah))"
      ],
      "execution_count": 45,
      "outputs": [
        {
          "output_type": "stream",
          "text": [
            "digite a temperatura em Celcius: 0\n",
            "a temperatura em Celcius 0ºC convertida para Fahrenheit eh: 32ºF\n"
          ],
          "name": "stdout"
        }
      ]
    },
    {
      "cell_type": "code",
      "metadata": {
        "colab": {
          "base_uri": "https://localhost:8080/"
        },
        "id": "BqVqtigFOfZU",
        "outputId": "6d61e562-e137-44d7-cf1c-0f15b90d3af3"
      },
      "source": [
        "#exercicio 15: Escreva um programa que pergunte a quantidade de Km percorridos por um carro alugado \n",
        "#e a quantidade de dias pelos quais ele foi alugado. \n",
        "#Calcule o preço a pagar, sabendo que o carro custa R$60 por dia e R$0,15 por Km rodado.\n",
        "\n",
        "quilometragem = float(input('digite os KM rodados: '))\n",
        "dias = int(input('digite a quantidade de dias: '))\n",
        "aluguel = (dias*60.00) + (0.15*quilometragem)\n",
        "print('o aluguel de um carro que rodou {}km por {} dias custa R${}'.format(quilometragem, dias, aluguel))"
      ],
      "execution_count": 48,
      "outputs": [
        {
          "output_type": "stream",
          "text": [
            "digite os KM rodados: 45\n",
            "digite a quantidade de dias: 3\n",
            "o aluguel de um carro que rodou 45.0km por 3 dias custa R$186.75\n"
          ],
          "name": "stdout"
        }
      ]
    }
  ]
}